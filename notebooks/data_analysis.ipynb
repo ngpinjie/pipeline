# Import necessary libraries
import pandas as pd
import matplotlib.pyplot as plt

# Load ETF data
etf_df = pd.read_csv('data/transformed_etfs.csv')

# Load economic indicators data
leading_df = pd.read_csv('data/transformed_leading_indicators.csv')
coincident_df = pd.read_csv('data/transformed_coincident_indicators.csv')
lagging_df = pd.read_csv('data/transformed_lagging_indicators.csv')

# Display data summaries
print("ETF Data Summary:")
print(etf_df.describe())

print("Leading Indicators Summary:")
print(leading_df.describe())

print("Coincident Indicators Summary:")
print(coincident_df.describe())

print("Lagging Indicators Summary:")
print(lagging_df.describe())

# Plot ETF expense ratios
etf_df['expense_ratio'].plot(kind='bar')
plt.title('ETF Expense Ratios')
plt.xlabel('ETF')
plt.ylabel('Expense Ratio')
plt.show()

# Plot economic indicators
plt.figure(figsize=(14, 7))

plt.subplot(3, 1, 1)
plt.plot(leading_df['date'], leading_df['value'])
plt.title('Leading Indicators')

plt.subplot(3, 1, 2)
plt.plot(coincident_df['date'], coincident_df['value'])
plt.title('Coincident Indicators')

plt.subplot(3, 1, 3)
plt.plot(lagging_df['date'], lagging_df['value'])
plt.title('Lagging Indicators')

plt.tight_layout()
plt.show()
